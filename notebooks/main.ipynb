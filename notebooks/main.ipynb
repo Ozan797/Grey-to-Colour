{
 "cells": [
  {
   "cell_type": "markdown",
   "metadata": {},
   "source": [
    "# 🧪 Final Prototype – Multi-Modal GAN Image Colourisation (Prototype 3)\n",
    "\n",
    "Welcome to the final stage of my GAN-based image colourisation project.\n",
    "\n",
    "In this notebook, I implement **Prototype 3**, which introduces **multi-modal capabilities** to my GAN architecture. This allows the system to generate **multiple plausible colour outputs** for a single greyscale input, handling ambiguous scenarios (e.g., skies, fabrics, lighting) more intelligently.\n",
    "\n",
    "This prototype builds on my earlier work, using a **CBAM-enhanced U-Net generator**, and extends it with **latent noise injection** for diversity. The goal is to move toward real-time, user-interactive image colourisation with control over style and variability.\n"
   ]
  },
  {
   "cell_type": "markdown",
   "metadata": {},
   "source": [
    "## 📦 Importing Libraries\n",
    "\n",
    "Here I import all necessary Python libraries for loading data, defining the GAN architecture, and performing inference with visualisation.\n"
   ]
  },
  {
   "cell_type": "code",
   "execution_count": null,
   "metadata": {},
   "outputs": [],
   "source": [
    "# Standard ML and image processing tools\n",
    "import torch\n",
    "import torch.nn as nn\n",
    "import torchvision.transforms as transforms\n",
    "import matplotlib.pyplot as plt\n",
    "import numpy as np\n",
    "\n",
    "# For working with image arrays\n",
    "from PIL import Image\n"
   ]
  },
  {
   "cell_type": "markdown",
   "metadata": {},
   "source": [
    "## 🧠 Define Generator with Hierarchical Attention and Latent Noise Input\n",
    "\n",
    "In this section, I define the full generator architecture, based on a U-Net with **CBAM attention** and support for latent vector injection.\n",
    "\n",
    "The model accepts a **greyscale image + noise map**, which are concatenated to form the 2-channel input. This allows the generator to create **different results per input**, depending on the random noise.\n"
   ]
  },
  {
   "cell_type": "code",
   "execution_count": null,
   "metadata": {},
   "outputs": [],
   "source": [
    "# CBAM modules for hierarchical attention\n",
    "class ChannelAttention(nn.Module):\n",
    "    def __init__(self, in_planes, ratio=8):\n",
    "        super().__init__()\n",
    "        self.avg_pool = nn.AdaptiveAvgPool2d(1)\n",
    "        self.max_pool = nn.AdaptiveMaxPool2d(1)\n",
    "        self.shared_mlp = nn.Sequential(\n",
    "            nn.Conv2d(in_planes, in_planes // ratio, 1),\n",
    "            nn.ReLU(),\n",
    "            nn.Conv2d(in_planes // ratio, in_planes, 1)\n",
    "        )\n",
    "        self.sigmoid = nn.Sigmoid()\n",
    "\n",
    "    def forward(self, x):\n",
    "        avg = self.shared_mlp(self.avg_pool(x))\n",
    "        max = self.shared_mlp(self.max_pool(x))\n",
    "        return self.sigmoid(avg + max)\n",
    "\n",
    "class SpatialAttention(nn.Module):\n",
    "    def __init__(self):\n",
    "        super().__init__()\n",
    "        self.conv = nn.Conv2d(2, 1, kernel_size=7, padding=3)\n",
    "        self.sigmoid = nn.Sigmoid()\n",
    "\n",
    "    def forward(self, x):\n",
    "        avg = torch.mean(x, dim=1, keepdim=True)\n",
    "        max, _ = torch.max(x, dim=1, keepdim=True)\n",
    "        return self.sigmoid(self.conv(torch.cat([avg, max], dim=1)))\n",
    "\n",
    "class CBAM(nn.Module):\n",
    "    def __init__(self, channels):\n",
    "        super().__init__()\n",
    "        self.channel_attention = ChannelAttention(channels)\n",
    "        self.spatial_attention = SpatialAttention()\n",
    "\n",
    "    def forward(self, x):\n",
    "        x = x * self.channel_attention(x)\n",
    "        return x * self.spatial_attention(x)\n"
   ]
  },
  {
   "cell_type": "code",
   "execution_count": null,
   "metadata": {},
   "outputs": [],
   "source": [
    "# Generator that takes (greyscale + noise) input\n",
    "class UNetGeneratorCBAM_Multimodal(nn.Module):\n",
    "    def __init__(self):\n",
    "        super().__init__()\n",
    "        self.down1 = self.block(2, 64, batch_norm=False)  # 👈 2-channel input\n",
    "        self.cbam1 = CBAM(64)\n",
    "\n",
    "        self.down2 = self.block(64, 128)\n",
    "        self.cbam2 = CBAM(128)\n",
    "\n",
    "        self.down3 = self.block(128, 256)\n",
    "        self.cbam3 = CBAM(256)\n",
    "\n",
    "        self.down4 = self.block(256, 512)\n",
    "        self.cbam4 = CBAM(512)\n",
    "\n",
    "        self.bottleneck = nn.Sequential(\n",
    "            nn.Conv2d(512, 1024, 4, 2, 1),\n",
    "            nn.ReLU()\n",
    "        )\n",
    "\n",
    "        self.up1 = self.up_block(1024, 512)\n",
    "        self.up2 = self.up_block(1024, 256)\n",
    "        self.up3 = self.up_block(512, 128)\n",
    "        self.up4 = self.up_block(256, 64)\n",
    "\n",
    "        self.final = nn.Sequential(\n",
    "            nn.ConvTranspose2d(128, 3, 4, 2, 1),\n",
    "            nn.Tanh()\n",
    "        )\n",
    "\n",
    "    def block(self, in_c, out_c, batch_norm=True):\n",
    "        layers = [nn.Conv2d(in_c, out_c, 4, 2, 1), nn.LeakyReLU(0.2)]\n",
    "        if batch_norm:\n",
    "            layers.append(nn.BatchNorm2d(out_c))\n",
    "        return nn.Sequential(*layers)\n",
    "\n",
    "    def up_block(self, in_c, out_c):\n",
    "        return nn.Sequential(\n",
    "            nn.ConvTranspose2d(in_c, out_c, 4, 2, 1),\n",
    "            nn.ReLU(),\n",
    "            nn.BatchNorm2d(out_c)\n",
    "        )\n",
    "\n",
    "    def forward(self, x, z):\n",
    "        x = torch.cat([x, z], dim=1)  # Concatenate greyscale + noise\n",
    "        d1 = self.cbam1(self.down1(x))\n",
    "        d2 = self.cbam2(self.down2(d1))\n",
    "        d3 = self.cbam3(self.down3(d2))\n",
    "        d4 = self.cbam4(self.down4(d3))\n",
    "\n",
    "        bn = self.bottleneck(d4)\n",
    "\n",
    "        u1 = self.up1(bn)\n",
    "        u1 = torch.cat([u1, d4], dim=1)\n",
    "\n",
    "        u2 = self.up2(u1)\n",
    "        u2 = torch.cat([u2, d3], dim=1)\n",
    "\n",
    "        u3 = self.up3(u2)\n",
    "        u3 = torch.cat([u3, d2], dim=1)\n",
    "\n",
    "        u4 = self.up4(u3)\n",
    "        u4 = torch.cat([u4, d1], dim=1)\n",
    "\n",
    "        return self.final(u4)\n"
   ]
  },
  {
   "cell_type": "markdown",
   "metadata": {},
   "source": [
    "## 💾 Load Pretrained Weights (with Compatibility Fix)\n",
    "\n",
    "My current generator architecture uses a 2-channel input (greyscale + latent noise), but my saved weights from Prototype 2 were trained on a 1-channel greyscale input.\n",
    "\n",
    "To work around this, I manually remove the incompatible weights from the saved checkpoint (`down1.0.weight`, etc.) and load the rest. This lets me retain the valuable pretrained layers (CBAM blocks, decoder, etc.) while retraining only the first convolutional layer.\n",
    "\n"
   ]
  },
  {
   "cell_type": "code",
   "execution_count": 5,
   "metadata": {},
   "outputs": [
    {
     "name": "stdout",
     "output_type": "stream",
     "text": [
      "⚠️ Skipping incompatible weight: down1.0.weight\n",
      "⚠️ Skipping incompatible weight: down1.0.bias\n",
      "✅ Loaded pretrained weights (excluding down1).\n"
     ]
    },
    {
     "data": {
      "text/plain": [
       "UNetGeneratorCBAM_Multimodal(\n",
       "  (down1): Sequential(\n",
       "    (0): Conv2d(2, 64, kernel_size=(4, 4), stride=(2, 2), padding=(1, 1))\n",
       "    (1): LeakyReLU(negative_slope=0.2)\n",
       "  )\n",
       "  (cbam1): CBAM(\n",
       "    (channel_attention): ChannelAttention(\n",
       "      (avg_pool): AdaptiveAvgPool2d(output_size=1)\n",
       "      (max_pool): AdaptiveMaxPool2d(output_size=1)\n",
       "      (shared_mlp): Sequential(\n",
       "        (0): Conv2d(64, 8, kernel_size=(1, 1), stride=(1, 1))\n",
       "        (1): ReLU()\n",
       "        (2): Conv2d(8, 64, kernel_size=(1, 1), stride=(1, 1))\n",
       "      )\n",
       "      (sigmoid): Sigmoid()\n",
       "    )\n",
       "    (spatial_attention): SpatialAttention(\n",
       "      (conv): Conv2d(2, 1, kernel_size=(7, 7), stride=(1, 1), padding=(3, 3))\n",
       "      (sigmoid): Sigmoid()\n",
       "    )\n",
       "  )\n",
       "  (down2): Sequential(\n",
       "    (0): Conv2d(64, 128, kernel_size=(4, 4), stride=(2, 2), padding=(1, 1))\n",
       "    (1): LeakyReLU(negative_slope=0.2)\n",
       "    (2): BatchNorm2d(128, eps=1e-05, momentum=0.1, affine=True, track_running_stats=True)\n",
       "  )\n",
       "  (cbam2): CBAM(\n",
       "    (channel_attention): ChannelAttention(\n",
       "      (avg_pool): AdaptiveAvgPool2d(output_size=1)\n",
       "      (max_pool): AdaptiveMaxPool2d(output_size=1)\n",
       "      (shared_mlp): Sequential(\n",
       "        (0): Conv2d(128, 16, kernel_size=(1, 1), stride=(1, 1))\n",
       "        (1): ReLU()\n",
       "        (2): Conv2d(16, 128, kernel_size=(1, 1), stride=(1, 1))\n",
       "      )\n",
       "      (sigmoid): Sigmoid()\n",
       "    )\n",
       "    (spatial_attention): SpatialAttention(\n",
       "      (conv): Conv2d(2, 1, kernel_size=(7, 7), stride=(1, 1), padding=(3, 3))\n",
       "      (sigmoid): Sigmoid()\n",
       "    )\n",
       "  )\n",
       "  (down3): Sequential(\n",
       "    (0): Conv2d(128, 256, kernel_size=(4, 4), stride=(2, 2), padding=(1, 1))\n",
       "    (1): LeakyReLU(negative_slope=0.2)\n",
       "    (2): BatchNorm2d(256, eps=1e-05, momentum=0.1, affine=True, track_running_stats=True)\n",
       "  )\n",
       "  (cbam3): CBAM(\n",
       "    (channel_attention): ChannelAttention(\n",
       "      (avg_pool): AdaptiveAvgPool2d(output_size=1)\n",
       "      (max_pool): AdaptiveMaxPool2d(output_size=1)\n",
       "      (shared_mlp): Sequential(\n",
       "        (0): Conv2d(256, 32, kernel_size=(1, 1), stride=(1, 1))\n",
       "        (1): ReLU()\n",
       "        (2): Conv2d(32, 256, kernel_size=(1, 1), stride=(1, 1))\n",
       "      )\n",
       "      (sigmoid): Sigmoid()\n",
       "    )\n",
       "    (spatial_attention): SpatialAttention(\n",
       "      (conv): Conv2d(2, 1, kernel_size=(7, 7), stride=(1, 1), padding=(3, 3))\n",
       "      (sigmoid): Sigmoid()\n",
       "    )\n",
       "  )\n",
       "  (down4): Sequential(\n",
       "    (0): Conv2d(256, 512, kernel_size=(4, 4), stride=(2, 2), padding=(1, 1))\n",
       "    (1): LeakyReLU(negative_slope=0.2)\n",
       "    (2): BatchNorm2d(512, eps=1e-05, momentum=0.1, affine=True, track_running_stats=True)\n",
       "  )\n",
       "  (cbam4): CBAM(\n",
       "    (channel_attention): ChannelAttention(\n",
       "      (avg_pool): AdaptiveAvgPool2d(output_size=1)\n",
       "      (max_pool): AdaptiveMaxPool2d(output_size=1)\n",
       "      (shared_mlp): Sequential(\n",
       "        (0): Conv2d(512, 64, kernel_size=(1, 1), stride=(1, 1))\n",
       "        (1): ReLU()\n",
       "        (2): Conv2d(64, 512, kernel_size=(1, 1), stride=(1, 1))\n",
       "      )\n",
       "      (sigmoid): Sigmoid()\n",
       "    )\n",
       "    (spatial_attention): SpatialAttention(\n",
       "      (conv): Conv2d(2, 1, kernel_size=(7, 7), stride=(1, 1), padding=(3, 3))\n",
       "      (sigmoid): Sigmoid()\n",
       "    )\n",
       "  )\n",
       "  (bottleneck): Sequential(\n",
       "    (0): Conv2d(512, 1024, kernel_size=(4, 4), stride=(2, 2), padding=(1, 1))\n",
       "    (1): ReLU()\n",
       "  )\n",
       "  (up1): Sequential(\n",
       "    (0): ConvTranspose2d(1024, 512, kernel_size=(4, 4), stride=(2, 2), padding=(1, 1))\n",
       "    (1): ReLU()\n",
       "    (2): BatchNorm2d(512, eps=1e-05, momentum=0.1, affine=True, track_running_stats=True)\n",
       "  )\n",
       "  (up2): Sequential(\n",
       "    (0): ConvTranspose2d(1024, 256, kernel_size=(4, 4), stride=(2, 2), padding=(1, 1))\n",
       "    (1): ReLU()\n",
       "    (2): BatchNorm2d(256, eps=1e-05, momentum=0.1, affine=True, track_running_stats=True)\n",
       "  )\n",
       "  (up3): Sequential(\n",
       "    (0): ConvTranspose2d(512, 128, kernel_size=(4, 4), stride=(2, 2), padding=(1, 1))\n",
       "    (1): ReLU()\n",
       "    (2): BatchNorm2d(128, eps=1e-05, momentum=0.1, affine=True, track_running_stats=True)\n",
       "  )\n",
       "  (up4): Sequential(\n",
       "    (0): ConvTranspose2d(256, 64, kernel_size=(4, 4), stride=(2, 2), padding=(1, 1))\n",
       "    (1): ReLU()\n",
       "    (2): BatchNorm2d(64, eps=1e-05, momentum=0.1, affine=True, track_running_stats=True)\n",
       "  )\n",
       "  (final): Sequential(\n",
       "    (0): ConvTranspose2d(128, 3, kernel_size=(4, 4), stride=(2, 2), padding=(1, 1))\n",
       "    (1): Tanh()\n",
       "  )\n",
       ")"
      ]
     },
     "execution_count": 5,
     "metadata": {},
     "output_type": "execute_result"
    }
   ],
   "source": [
    "# ✅ Device setup\n",
    "device = torch.device(\"cuda\" if torch.cuda.is_available() else \"cpu\")\n",
    "\n",
    "# 🔧 Instantiate the Prototype 3 generator with 2-channel input\n",
    "generator = UNetGeneratorCBAM_Multimodal().to(device)\n",
    "\n",
    "# 🔁 Load pretrained weights, skipping first conv layer (1→2 channel mismatch)\n",
    "try:\n",
    "    state_dict = torch.load(\"model.pth\", map_location=device)\n",
    "\n",
    "    # Drop incompatible keys\n",
    "    removed_keys = [k for k in state_dict if \"down1.0\" in k]\n",
    "    for k in removed_keys:\n",
    "        print(f\"⚠️ Skipping incompatible weight: {k}\")\n",
    "        del state_dict[k]\n",
    "\n",
    "    generator.load_state_dict(state_dict, strict=False)\n",
    "    print(\"✅ Loaded pretrained weights (excluding down1).\")\n",
    "\n",
    "except Exception as e:\n",
    "    print(\"❌ Could not load weights:\", e)\n",
    "\n",
    "generator.eval()\n"
   ]
  },
  {
   "cell_type": "markdown",
   "metadata": {},
   "source": [
    "## 🧪 Load Real Test Inputs from CIFAR-10\n",
    "\n",
    "Here I load a batch of real colour images from the CIFAR-10 test set and convert them to greyscale. This lets me evaluate how well my generator performs on **structured, realistic input** data.\n",
    "\n",
    "CIFAR-10 is a 10-class dataset of 32×32 colour images, used in Prototypes 1 and 2.\n"
   ]
  },
  {
   "cell_type": "code",
   "execution_count": 9,
   "metadata": {},
   "outputs": [
    {
     "name": "stdout",
     "output_type": "stream",
     "text": [
      "✅ CIFAR-10 batch loaded. Shape: torch.Size([4, 1, 32, 32])\n"
     ]
    }
   ],
   "source": [
    "from torchvision import datasets, transforms\n",
    "from torch.utils.data import DataLoader\n",
    "\n",
    "# Convert to greyscale and then to tensor\n",
    "greyscale_transform = transforms.Compose([\n",
    "    transforms.Grayscale(num_output_channels=1),\n",
    "    transforms.ToTensor()\n",
    "])\n",
    "\n",
    "# Also load the original colour version (for reference)\n",
    "colour_transform = transforms.ToTensor()\n",
    "\n",
    "# Load CIFAR-10 test set (download once)\n",
    "cifar10_grey = datasets.CIFAR10(root=\"./data\", train=False, download=True, transform=greyscale_transform)\n",
    "cifar10_colour = datasets.CIFAR10(root=\"./data\", train=False, download=True, transform=colour_transform)\n",
    "\n",
    "# Batch loader\n",
    "batch_size = 4\n",
    "grey_loader = DataLoader(cifar10_grey, batch_size=batch_size, shuffle=True)\n",
    "colour_loader = DataLoader(cifar10_colour, batch_size=batch_size, shuffle=True)\n",
    "\n",
    "# Grab one batch\n",
    "greyscale_batch, _ = next(iter(grey_loader))\n",
    "original_colour_batch, _ = next(iter(colour_loader))\n",
    "\n",
    "# Move to device\n",
    "greyscale_batch = greyscale_batch.to(device)\n",
    "\n",
    "print(\"✅ CIFAR-10 batch loaded. Shape:\", greyscale_batch.shape)\n"
   ]
  },
  {
   "cell_type": "markdown",
   "metadata": {},
   "source": [
    "## 🔁 Define CIFAR-10 Colourisation Dataset\n",
    "\n",
    "Here I define a custom PyTorch dataset that returns paired `(greyscale, colour)` images from the CIFAR-10 training set. These are used to train the generator to learn mappings from structure to realistic colour.\n"
   ]
  },
  {
   "cell_type": "code",
   "execution_count": 12,
   "metadata": {},
   "outputs": [],
   "source": [
    "from torchvision import datasets, transforms\n",
    "from torch.utils.data import DataLoader, Dataset\n",
    "\n",
    "# Transform: full-colour and greyscale version\n",
    "to_tensor = transforms.ToTensor()\n",
    "to_grey = transforms.Grayscale(num_output_channels=1)\n",
    "\n",
    "class ColourisationDataset(Dataset):\n",
    "    def __init__(self, root=\"./data\"):\n",
    "        self.data = datasets.CIFAR10(root=root, train=True, download=True, transform=to_tensor)\n",
    "        self.to_grey = to_grey\n",
    "\n",
    "    def __len__(self):\n",
    "        return len(self.data)\n",
    "\n",
    "    def __getitem__(self, idx):\n",
    "        colour_img, _ = self.data[idx]\n",
    "        grey_img = self.to_grey(transforms.ToPILImage()(colour_img))\n",
    "        grey_tensor = transforms.ToTensor()(grey_img)\n",
    "        return grey_tensor, colour_img\n",
    "\n",
    "# Load dataset\n",
    "train_dataset = ColourisationDataset()\n",
    "train_loader = DataLoader(train_dataset, batch_size=64, shuffle=True)\n"
   ]
  },
  {
   "cell_type": "markdown",
   "metadata": {},
   "source": [
    "## 🎯 Discriminator & Training Setup\n",
    "\n",
    "To fine-tune the generator, I introduce a simple discriminator that learns to distinguish real colour images from generated ones.\n",
    "\n",
    "This GAN setup uses:\n",
    "- L1 Loss: pixel-wise reconstruction\n",
    "- BCE Loss: adversarial realism\n",
    "- Adam optimisers for both models\n"
   ]
  },
  {
   "cell_type": "code",
   "execution_count": 13,
   "metadata": {},
   "outputs": [],
   "source": [
    "# Simple discriminator (CNN)\n",
    "class Discriminator(nn.Module):\n",
    "    def __init__(self):\n",
    "        super().__init__()\n",
    "        self.model = nn.Sequential(\n",
    "            nn.Conv2d(3, 64, 4, 2, 1),\n",
    "            nn.LeakyReLU(0.2),\n",
    "            nn.Conv2d(64, 128, 4, 2, 1),\n",
    "            nn.BatchNorm2d(128),\n",
    "            nn.LeakyReLU(0.2),\n",
    "            nn.Conv2d(128, 1, 4, 1, 0),\n",
    "            nn.Sigmoid()\n",
    "        )\n",
    "\n",
    "    def forward(self, x):\n",
    "        return self.model(x)\n",
    "\n",
    "# Instantiate models\n",
    "discriminator = Discriminator().to(device)\n",
    "\n",
    "# Losses\n",
    "criterion_L1 = nn.L1Loss()\n",
    "criterion_adv = nn.BCELoss()\n",
    "\n",
    "# Optimisers\n",
    "lr = 2e-4\n",
    "optimizer_G = torch.optim.Adam(generator.parameters(), lr=lr, betas=(0.5, 0.999))\n",
    "optimizer_D = torch.optim.Adam(discriminator.parameters(), lr=lr, betas=(0.5, 0.999))\n"
   ]
  },
  {
   "cell_type": "markdown",
   "metadata": {},
   "source": [
    "## 🔁 Fine-Tuning Generator on CIFAR-10\n",
    "\n",
    "Now I train the generator using the full CIFAR-10 training set. The generator receives `(greyscale + noise)` as input and tries to match the real colour target.\n",
    "\n",
    "The discriminator guides the realism, while L1 loss ensures structural fidelity.\n"
   ]
  },
  {
   "cell_type": "code",
   "execution_count": 33,
   "metadata": {},
   "outputs": [
    {
     "name": "stderr",
     "output_type": "stream",
     "text": [
      "100%|██████████| 782/782 [02:00<00:00,  6.51it/s]\n"
     ]
    },
    {
     "name": "stdout",
     "output_type": "stream",
     "text": [
      "Epoch 1/50 | G Loss: 4232.0895 | D Loss: 654.4197\n"
     ]
    },
    {
     "name": "stderr",
     "output_type": "stream",
     "text": [
      "100%|██████████| 782/782 [01:53<00:00,  6.90it/s]\n"
     ]
    },
    {
     "name": "stdout",
     "output_type": "stream",
     "text": [
      "Epoch 2/50 | G Loss: 4966.9498 | D Loss: 327.2879\n"
     ]
    },
    {
     "name": "stderr",
     "output_type": "stream",
     "text": [
      "100%|██████████| 782/782 [01:54<00:00,  6.84it/s]\n"
     ]
    },
    {
     "name": "stdout",
     "output_type": "stream",
     "text": [
      "Epoch 3/50 | G Loss: 5565.4104 | D Loss: 191.1589\n"
     ]
    },
    {
     "name": "stderr",
     "output_type": "stream",
     "text": [
      "100%|██████████| 782/782 [01:47<00:00,  7.28it/s]\n"
     ]
    },
    {
     "name": "stdout",
     "output_type": "stream",
     "text": [
      "Epoch 4/50 | G Loss: 6081.7202 | D Loss: 122.6546\n"
     ]
    },
    {
     "name": "stderr",
     "output_type": "stream",
     "text": [
      "100%|██████████| 782/782 [01:42<00:00,  7.60it/s]\n"
     ]
    },
    {
     "name": "stdout",
     "output_type": "stream",
     "text": [
      "Epoch 5/50 | G Loss: 6531.8027 | D Loss: 86.8613\n"
     ]
    },
    {
     "name": "stderr",
     "output_type": "stream",
     "text": [
      "100%|██████████| 782/782 [01:48<00:00,  7.22it/s]\n"
     ]
    },
    {
     "name": "stdout",
     "output_type": "stream",
     "text": [
      "Epoch 6/50 | G Loss: 6929.3616 | D Loss: 61.0287\n"
     ]
    },
    {
     "name": "stderr",
     "output_type": "stream",
     "text": [
      "100%|██████████| 782/782 [01:42<00:00,  7.65it/s]\n"
     ]
    },
    {
     "name": "stdout",
     "output_type": "stream",
     "text": [
      "Epoch 7/50 | G Loss: 7317.9924 | D Loss: 41.3485\n"
     ]
    },
    {
     "name": "stderr",
     "output_type": "stream",
     "text": [
      "100%|██████████| 782/782 [01:38<00:00,  7.97it/s]\n"
     ]
    },
    {
     "name": "stdout",
     "output_type": "stream",
     "text": [
      "Epoch 8/50 | G Loss: 7552.8482 | D Loss: 44.0593\n"
     ]
    },
    {
     "name": "stderr",
     "output_type": "stream",
     "text": [
      "100%|██████████| 782/782 [01:47<00:00,  7.31it/s]\n"
     ]
    },
    {
     "name": "stdout",
     "output_type": "stream",
     "text": [
      "Epoch 9/50 | G Loss: 7820.4458 | D Loss: 43.9805\n"
     ]
    },
    {
     "name": "stderr",
     "output_type": "stream",
     "text": [
      "100%|██████████| 782/782 [02:09<00:00,  6.05it/s]\n"
     ]
    },
    {
     "name": "stdout",
     "output_type": "stream",
     "text": [
      "Epoch 10/50 | G Loss: 7998.4807 | D Loss: 21.1898\n"
     ]
    },
    {
     "name": "stderr",
     "output_type": "stream",
     "text": [
      "100%|██████████| 782/782 [02:09<00:00,  6.05it/s]\n"
     ]
    },
    {
     "name": "stdout",
     "output_type": "stream",
     "text": [
      "Epoch 11/50 | G Loss: 8144.3660 | D Loss: 30.4245\n"
     ]
    },
    {
     "name": "stderr",
     "output_type": "stream",
     "text": [
      "100%|██████████| 782/782 [02:06<00:00,  6.17it/s]\n"
     ]
    },
    {
     "name": "stdout",
     "output_type": "stream",
     "text": [
      "Epoch 12/50 | G Loss: 8481.2754 | D Loss: 9.5430\n"
     ]
    },
    {
     "name": "stderr",
     "output_type": "stream",
     "text": [
      "100%|██████████| 782/782 [01:51<00:00,  7.02it/s]\n"
     ]
    },
    {
     "name": "stdout",
     "output_type": "stream",
     "text": [
      "Epoch 13/50 | G Loss: 8411.7484 | D Loss: 39.6055\n"
     ]
    },
    {
     "name": "stderr",
     "output_type": "stream",
     "text": [
      "100%|██████████| 782/782 [02:07<00:00,  6.11it/s]\n"
     ]
    },
    {
     "name": "stdout",
     "output_type": "stream",
     "text": [
      "Epoch 14/50 | G Loss: 8558.1471 | D Loss: 26.3391\n"
     ]
    },
    {
     "name": "stderr",
     "output_type": "stream",
     "text": [
      "100%|██████████| 782/782 [01:59<00:00,  6.54it/s]\n"
     ]
    },
    {
     "name": "stdout",
     "output_type": "stream",
     "text": [
      "Epoch 15/50 | G Loss: 8914.5582 | D Loss: 5.5201\n"
     ]
    },
    {
     "name": "stderr",
     "output_type": "stream",
     "text": [
      "100%|██████████| 782/782 [01:40<00:00,  7.77it/s]\n"
     ]
    },
    {
     "name": "stdout",
     "output_type": "stream",
     "text": [
      "Epoch 16/50 | G Loss: 8711.8175 | D Loss: 41.4185\n"
     ]
    },
    {
     "name": "stderr",
     "output_type": "stream",
     "text": [
      "100%|██████████| 782/782 [01:40<00:00,  7.79it/s]\n"
     ]
    },
    {
     "name": "stdout",
     "output_type": "stream",
     "text": [
      "Epoch 17/50 | G Loss: 9075.9528 | D Loss: 4.3157\n"
     ]
    },
    {
     "name": "stderr",
     "output_type": "stream",
     "text": [
      "100%|██████████| 782/782 [01:40<00:00,  7.80it/s]\n"
     ]
    },
    {
     "name": "stdout",
     "output_type": "stream",
     "text": [
      "Epoch 18/50 | G Loss: 8713.3685 | D Loss: 57.3189\n"
     ]
    },
    {
     "name": "stderr",
     "output_type": "stream",
     "text": [
      "100%|██████████| 782/782 [01:39<00:00,  7.84it/s]\n"
     ]
    },
    {
     "name": "stdout",
     "output_type": "stream",
     "text": [
      "Epoch 19/50 | G Loss: 8899.6183 | D Loss: 36.5357\n"
     ]
    },
    {
     "name": "stderr",
     "output_type": "stream",
     "text": [
      "100%|██████████| 782/782 [01:39<00:00,  7.83it/s]\n"
     ]
    },
    {
     "name": "stdout",
     "output_type": "stream",
     "text": [
      "Epoch 20/50 | G Loss: 9097.4335 | D Loss: 8.2102\n"
     ]
    },
    {
     "name": "stderr",
     "output_type": "stream",
     "text": [
      "100%|██████████| 782/782 [01:40<00:00,  7.80it/s]\n"
     ]
    },
    {
     "name": "stdout",
     "output_type": "stream",
     "text": [
      "Epoch 21/50 | G Loss: 9390.9594 | D Loss: 3.0189\n"
     ]
    },
    {
     "name": "stderr",
     "output_type": "stream",
     "text": [
      "100%|██████████| 782/782 [01:39<00:00,  7.83it/s]\n"
     ]
    },
    {
     "name": "stdout",
     "output_type": "stream",
     "text": [
      "Epoch 22/50 | G Loss: 9199.3989 | D Loss: 41.0257\n"
     ]
    },
    {
     "name": "stderr",
     "output_type": "stream",
     "text": [
      "100%|██████████| 782/782 [01:40<00:00,  7.80it/s]\n"
     ]
    },
    {
     "name": "stdout",
     "output_type": "stream",
     "text": [
      "Epoch 23/50 | G Loss: 9366.5699 | D Loss: 2.9465\n"
     ]
    },
    {
     "name": "stderr",
     "output_type": "stream",
     "text": [
      "100%|██████████| 782/782 [01:40<00:00,  7.79it/s]\n"
     ]
    },
    {
     "name": "stdout",
     "output_type": "stream",
     "text": [
      "Epoch 24/50 | G Loss: 9502.3086 | D Loss: 51.0520\n"
     ]
    },
    {
     "name": "stderr",
     "output_type": "stream",
     "text": [
      "100%|██████████| 782/782 [01:39<00:00,  7.85it/s]\n"
     ]
    },
    {
     "name": "stdout",
     "output_type": "stream",
     "text": [
      "Epoch 25/50 | G Loss: 9310.0434 | D Loss: 3.1735\n"
     ]
    },
    {
     "name": "stderr",
     "output_type": "stream",
     "text": [
      "100%|██████████| 782/782 [01:40<00:00,  7.80it/s]\n"
     ]
    },
    {
     "name": "stdout",
     "output_type": "stream",
     "text": [
      "Epoch 26/50 | G Loss: 9735.5056 | D Loss: 24.6158\n"
     ]
    },
    {
     "name": "stderr",
     "output_type": "stream",
     "text": [
      "100%|██████████| 782/782 [01:40<00:00,  7.80it/s]\n"
     ]
    },
    {
     "name": "stdout",
     "output_type": "stream",
     "text": [
      "Epoch 27/50 | G Loss: 9358.8181 | D Loss: 6.1828\n"
     ]
    },
    {
     "name": "stderr",
     "output_type": "stream",
     "text": [
      "100%|██████████| 782/782 [01:40<00:00,  7.81it/s]\n"
     ]
    },
    {
     "name": "stdout",
     "output_type": "stream",
     "text": [
      "Epoch 28/50 | G Loss: 9854.2450 | D Loss: 2.0575\n"
     ]
    },
    {
     "name": "stderr",
     "output_type": "stream",
     "text": [
      "100%|██████████| 782/782 [01:40<00:00,  7.80it/s]\n"
     ]
    },
    {
     "name": "stdout",
     "output_type": "stream",
     "text": [
      "Epoch 29/50 | G Loss: 10109.3055 | D Loss: 1.2951\n"
     ]
    },
    {
     "name": "stderr",
     "output_type": "stream",
     "text": [
      "100%|██████████| 782/782 [01:39<00:00,  7.82it/s]\n"
     ]
    },
    {
     "name": "stdout",
     "output_type": "stream",
     "text": [
      "Epoch 30/50 | G Loss: 9282.8620 | D Loss: 66.9709\n"
     ]
    },
    {
     "name": "stderr",
     "output_type": "stream",
     "text": [
      "100%|██████████| 782/782 [01:39<00:00,  7.84it/s]\n"
     ]
    },
    {
     "name": "stdout",
     "output_type": "stream",
     "text": [
      "Epoch 31/50 | G Loss: 9999.2700 | D Loss: 1.6369\n"
     ]
    },
    {
     "name": "stderr",
     "output_type": "stream",
     "text": [
      "100%|██████████| 782/782 [01:40<00:00,  7.79it/s]\n"
     ]
    },
    {
     "name": "stdout",
     "output_type": "stream",
     "text": [
      "Epoch 32/50 | G Loss: 10222.7102 | D Loss: 1.3607\n"
     ]
    },
    {
     "name": "stderr",
     "output_type": "stream",
     "text": [
      "100%|██████████| 782/782 [01:40<00:00,  7.80it/s]\n"
     ]
    },
    {
     "name": "stdout",
     "output_type": "stream",
     "text": [
      "Epoch 33/50 | G Loss: 9412.6389 | D Loss: 50.9960\n"
     ]
    },
    {
     "name": "stderr",
     "output_type": "stream",
     "text": [
      "100%|██████████| 782/782 [01:40<00:00,  7.80it/s]\n"
     ]
    },
    {
     "name": "stdout",
     "output_type": "stream",
     "text": [
      "Epoch 34/50 | G Loss: 10027.3168 | D Loss: 1.5490\n"
     ]
    },
    {
     "name": "stderr",
     "output_type": "stream",
     "text": [
      "100%|██████████| 782/782 [01:40<00:00,  7.80it/s]\n"
     ]
    },
    {
     "name": "stdout",
     "output_type": "stream",
     "text": [
      "Epoch 35/50 | G Loss: 10354.9401 | D Loss: 1.1215\n"
     ]
    },
    {
     "name": "stderr",
     "output_type": "stream",
     "text": [
      "100%|██████████| 782/782 [01:40<00:00,  7.82it/s]\n"
     ]
    },
    {
     "name": "stdout",
     "output_type": "stream",
     "text": [
      "Epoch 36/50 | G Loss: 9488.3808 | D Loss: 49.0577\n"
     ]
    },
    {
     "name": "stderr",
     "output_type": "stream",
     "text": [
      "100%|██████████| 782/782 [01:39<00:00,  7.83it/s]\n"
     ]
    },
    {
     "name": "stdout",
     "output_type": "stream",
     "text": [
      "Epoch 37/50 | G Loss: 10284.9094 | D Loss: 1.0807\n"
     ]
    },
    {
     "name": "stderr",
     "output_type": "stream",
     "text": [
      "100%|██████████| 782/782 [01:39<00:00,  7.83it/s]\n"
     ]
    },
    {
     "name": "stdout",
     "output_type": "stream",
     "text": [
      "Epoch 38/50 | G Loss: 10236.7169 | D Loss: 45.2649\n"
     ]
    },
    {
     "name": "stderr",
     "output_type": "stream",
     "text": [
      "100%|██████████| 782/782 [01:40<00:00,  7.80it/s]\n"
     ]
    },
    {
     "name": "stdout",
     "output_type": "stream",
     "text": [
      "Epoch 39/50 | G Loss: 9710.7251 | D Loss: 2.9064\n"
     ]
    },
    {
     "name": "stderr",
     "output_type": "stream",
     "text": [
      "100%|██████████| 782/782 [01:40<00:00,  7.81it/s]\n"
     ]
    },
    {
     "name": "stdout",
     "output_type": "stream",
     "text": [
      "Epoch 40/50 | G Loss: 10335.8335 | D Loss: 1.0834\n"
     ]
    },
    {
     "name": "stderr",
     "output_type": "stream",
     "text": [
      "100%|██████████| 782/782 [01:39<00:00,  7.83it/s]\n"
     ]
    },
    {
     "name": "stdout",
     "output_type": "stream",
     "text": [
      "Epoch 41/50 | G Loss: 9774.2745 | D Loss: 32.4684\n"
     ]
    },
    {
     "name": "stderr",
     "output_type": "stream",
     "text": [
      "100%|██████████| 782/782 [01:40<00:00,  7.81it/s]\n"
     ]
    },
    {
     "name": "stdout",
     "output_type": "stream",
     "text": [
      "Epoch 42/50 | G Loss: 10329.2966 | D Loss: 1.2761\n"
     ]
    },
    {
     "name": "stderr",
     "output_type": "stream",
     "text": [
      "100%|██████████| 782/782 [01:39<00:00,  7.85it/s]\n"
     ]
    },
    {
     "name": "stdout",
     "output_type": "stream",
     "text": [
      "Epoch 43/50 | G Loss: 10603.7048 | D Loss: 0.7945\n"
     ]
    },
    {
     "name": "stderr",
     "output_type": "stream",
     "text": [
      "100%|██████████| 782/782 [01:40<00:00,  7.80it/s]\n"
     ]
    },
    {
     "name": "stdout",
     "output_type": "stream",
     "text": [
      "Epoch 44/50 | G Loss: 10040.0383 | D Loss: 26.6904\n"
     ]
    },
    {
     "name": "stderr",
     "output_type": "stream",
     "text": [
      "100%|██████████| 782/782 [01:39<00:00,  7.85it/s]\n"
     ]
    },
    {
     "name": "stdout",
     "output_type": "stream",
     "text": [
      "Epoch 45/50 | G Loss: 10579.3413 | D Loss: 0.8216\n"
     ]
    },
    {
     "name": "stderr",
     "output_type": "stream",
     "text": [
      "100%|██████████| 782/782 [01:39<00:00,  7.83it/s]\n"
     ]
    },
    {
     "name": "stdout",
     "output_type": "stream",
     "text": [
      "Epoch 46/50 | G Loss: 10778.9370 | D Loss: 0.6466\n"
     ]
    },
    {
     "name": "stderr",
     "output_type": "stream",
     "text": [
      "100%|██████████| 782/782 [01:40<00:00,  7.80it/s]\n"
     ]
    },
    {
     "name": "stdout",
     "output_type": "stream",
     "text": [
      "Epoch 47/50 | G Loss: 10951.9621 | D Loss: 0.5989\n"
     ]
    },
    {
     "name": "stderr",
     "output_type": "stream",
     "text": [
      "100%|██████████| 782/782 [01:40<00:00,  7.78it/s]\n"
     ]
    },
    {
     "name": "stdout",
     "output_type": "stream",
     "text": [
      "Epoch 48/50 | G Loss: 10391.1877 | D Loss: 57.0091\n"
     ]
    },
    {
     "name": "stderr",
     "output_type": "stream",
     "text": [
      "100%|██████████| 782/782 [01:40<00:00,  7.81it/s]\n"
     ]
    },
    {
     "name": "stdout",
     "output_type": "stream",
     "text": [
      "Epoch 49/50 | G Loss: 10193.3841 | D Loss: 9.3611\n"
     ]
    },
    {
     "name": "stderr",
     "output_type": "stream",
     "text": [
      "100%|██████████| 782/782 [01:40<00:00,  7.81it/s]\n"
     ]
    },
    {
     "name": "stdout",
     "output_type": "stream",
     "text": [
      "Epoch 50/50 | G Loss: 10815.4817 | D Loss: 0.7307\n"
     ]
    }
   ],
   "source": [
    "from tqdm import tqdm\n",
    "\n",
    "epochs = 50\n",
    "\n",
    "for epoch in range(epochs):\n",
    "    g_loss_total, d_loss_total = 0, 0\n",
    "\n",
    "    for grey, colour in tqdm(train_loader):\n",
    "        grey, colour = grey.to(device), colour.to(device)\n",
    "\n",
    "        # === Train Discriminator ===\n",
    "\n",
    "        # 1. Real pass\n",
    "        real_out = discriminator(colour)\n",
    "        real_labels = torch.ones_like(real_out).to(device)\n",
    "        d_loss_real = criterion_adv(real_out, real_labels)\n",
    "\n",
    "        # 2. Fake pass\n",
    "        z = torch.randn_like(grey)\n",
    "        fake_imgs = generator(grey, z)\n",
    "        fake_out = discriminator(fake_imgs.detach())\n",
    "        fake_labels = torch.zeros_like(fake_out).to(device)\n",
    "        d_loss_fake = criterion_adv(fake_out, fake_labels)\n",
    "\n",
    "        # Total discriminator loss\n",
    "        d_loss = d_loss_real + d_loss_fake\n",
    "        optimizer_D.zero_grad()\n",
    "        d_loss.backward()\n",
    "        optimizer_D.step()\n",
    "\n",
    "        # === Train Generator ===\n",
    "        fake_out = discriminator(fake_imgs)  # re-evaluate\n",
    "        real_labels = torch.ones_like(fake_out).to(device)\n",
    "        g_adv_loss = criterion_adv(fake_out, real_labels)\n",
    "        g_recon_loss = criterion_L1(fake_imgs, colour)\n",
    "        g_loss = g_adv_loss + 100 * g_recon_loss\n",
    "\n",
    "        optimizer_G.zero_grad()\n",
    "        g_loss.backward()\n",
    "        optimizer_G.step()\n",
    "\n",
    "        g_loss_total += g_loss.item()\n",
    "        d_loss_total += d_loss.item()\n",
    "\n",
    "    print(f\"Epoch {epoch+1}/{epochs} | G Loss: {g_loss_total:.4f} | D Loss: {d_loss_total:.4f}\")\n",
    "\n",
    "    # Save model every few epochs\n",
    "    if (epoch + 1) % 5 == 0:\n",
    "        torch.save(generator.state_dict(), f\"generator_epoch{epoch+1}.pth\")\n",
    "\n"
   ]
  },
  {
   "cell_type": "markdown",
   "metadata": {},
   "source": [
    "## 💾 Reload Trained Generator Model (Post-Kernel Restart)\n",
    "\n",
    "This cell ensures I can reload my fine-tuned generator from a saved checkpoint, such as `generator_epoch10.pth`.\n",
    "\n",
    "It assumes the model has already been trained using 2-channel inputs (greyscale + latent noise) and the CBAM attention modules.\n"
   ]
  },
  {
   "cell_type": "code",
   "execution_count": 39,
   "metadata": {},
   "outputs": [
    {
     "name": "stdout",
     "output_type": "stream",
     "text": [
      "✅ Loaded trained generator from 'generator_epoch50.pth'\n"
     ]
    }
   ],
   "source": [
    "# Re-import model class if kernel restarted (safe check)\n",
    "try:\n",
    "    generator\n",
    "except NameError:\n",
    "    generator = UNetGeneratorCBAM_Multimodal().to(device)\n",
    "\n",
    "# Load latest trained weights\n",
    "checkpoint_path = \"generator_epoch50.pth\" \n",
    "state_dict = torch.load(checkpoint_path, map_location=device)\n",
    "generator.load_state_dict(state_dict)\n",
    "generator.eval()\n",
    "\n",
    "print(f\"✅ Loaded trained generator from '{checkpoint_path}'\")\n"
   ]
  },
  {
   "cell_type": "markdown",
   "metadata": {},
   "source": [
    "## 🖼️ Visualise Multi-Modal Outputs from Trained Generator\n",
    "\n",
    "I now test the fine-tuned generator on a batch of **CIFAR-10 test images**.\n",
    "\n",
    "For each greyscale input:\n",
    "- I inject multiple random `z` noise vectors\n",
    "- The generator produces **different plausible colour outputs**\n",
    "- I compare them against the **original ground truth** image\n",
    "\n",
    "This demonstrates the multi-modal power of Prototype 3.\n"
   ]
  },
  {
   "cell_type": "code",
   "execution_count": 40,
   "metadata": {},
   "outputs": [],
   "source": [
    "# ✅ Combined dataset that returns aligned greyscale + colour\n",
    "from torchvision import datasets, transforms\n",
    "from torch.utils.data import Dataset, DataLoader\n",
    "\n",
    "class ColourisationTestDataset(Dataset):\n",
    "    def __init__(self, root=\"./data\"):\n",
    "        self.data = datasets.CIFAR10(root=root, train=False, download=True, transform=transforms.ToTensor())\n",
    "        self.to_grey = transforms.Grayscale(num_output_channels=1)\n",
    "\n",
    "    def __len__(self):\n",
    "        return len(self.data)\n",
    "\n",
    "    def __getitem__(self, idx):\n",
    "        colour_img, _ = self.data[idx]\n",
    "        grey_img = self.to_grey(transforms.ToPILImage()(colour_img))\n",
    "        grey_tensor = transforms.ToTensor()(grey_img)\n",
    "        return grey_tensor, colour_img\n",
    "\n",
    "# ✅ Load test set with aligned pairing (no shuffle!)\n",
    "test_dataset = ColourisationTestDataset()\n",
    "test_loader = DataLoader(test_dataset, batch_size=4, shuffle=False)\n",
    "\n",
    "# ✅ Pull one batch (aligned greyscale + colour)\n",
    "greyscale_batch, original_colour_batch = next(iter(test_loader))\n",
    "greyscale_batch = greyscale_batch.to(device)\n"
   ]
  },
  {
   "cell_type": "code",
   "execution_count": 41,
   "metadata": {},
   "outputs": [],
   "source": [
    "# Number of variations to generate per input\n",
    "num_samples = 3\n",
    "outputs = []\n",
    "\n",
    "for i in range(num_samples):\n",
    "    z = torch.randn_like(greyscale_batch)  # Inject different noise\n",
    "    with torch.no_grad():\n",
    "        output = generator(greyscale_batch, z)\n",
    "        outputs.append(output.cpu())\n"
   ]
  },
  {
   "cell_type": "code",
   "execution_count": 42,
   "metadata": {},
   "outputs": [],
   "source": [
    "import matplotlib.pyplot as plt\n",
    "import numpy as np\n",
    "\n",
    "def show_cifar_variations(greyscale_batch, outputs, original_batch):\n",
    "    batch_size = greyscale_batch.shape[0]\n",
    "    num_samples = len(outputs)\n",
    "\n",
    "    for i in range(batch_size):\n",
    "        fig, axs = plt.subplots(1, num_samples + 2, figsize=(4 * (num_samples + 2), 4))\n",
    "\n",
    "        # Greyscale input\n",
    "        axs[0].imshow(greyscale_batch[i, 0].cpu(), cmap='gray')\n",
    "        axs[0].set_title(\"Greyscale\")\n",
    "        axs[0].axis(\"off\")\n",
    "\n",
    "        # Generated outputs\n",
    "        for j in range(num_samples):\n",
    "            img = outputs[j][i].permute(1, 2, 0).numpy()\n",
    "            img = (img + 1) / 2  # Tanh to [0, 1]\n",
    "            axs[j + 1].imshow(np.clip(img, 0, 1))\n",
    "            axs[j + 1].set_title(f\"Output {j+1}\")\n",
    "            axs[j + 1].axis(\"off\")\n",
    "\n",
    "        # Ground truth\n",
    "        gt = original_batch[i].permute(1, 2, 0).numpy()\n",
    "        axs[-1].imshow(gt)\n",
    "        axs[-1].set_title(\"Ground Truth\")\n",
    "        axs[-1].axis(\"off\")\n",
    "\n",
    "        plt.show()\n"
   ]
  },
  {
   "cell_type": "code",
   "execution_count": 43,
   "metadata": {},
   "outputs": [
    {
     "data": {
      "image/png": "[encoded data removed]",
      "text/plain": [
       "<Figure size 2000x400 with 5 Axes>"
      ]
     },
     "metadata": {},
     "output_type": "display_data"
    },
    {
     "data": {
      "image/png": "[encoded data removed]",
      "text/plain": [
       "<Figure size 2000x400 with 5 Axes>"
      ]
     },
     "metadata": {},
     "output_type": "display_data"
    },
    {
     "data": {
      "image/png": "[encoded data removed]",
      "text/plain": [
       "<Figure size 2000x400 with 5 Axes>"
      ]
     },
     "metadata": {},
     "output_type": "display_data"
    },
    {
     "data": {
      "image/png": "[encoded data removed]",
      "text/plain": [
       "<Figure size 2000x400 with 5 Axes>"
      ]
     },
     "metadata": {},
     "output_type": "display_data"
    }
   ],
   "source": [
    "show_cifar_variations(greyscale_batch, outputs, original_colour_batch)\n"
   ]
  }
 ],
 "metadata": {
  "kernelspec": {
   "display_name": "venv",
   "language": "python",
   "name": "python3"
  },
  "language_info": {
   "codemirror_mode": {
    "name": "ipython",
    "version": 3
   },
   "file_extension": ".py",
   "mimetype": "text/x-python",
   "name": "python",
   "nbconvert_exporter": "python",
   "pygments_lexer": "ipython3",
   "version": "3.12.6"
  }
 },
 "nbformat": 4,
 "nbformat_minor": 2
}
